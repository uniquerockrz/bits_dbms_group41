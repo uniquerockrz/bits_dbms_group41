{
 "cells": [
  {
   "cell_type": "code",
   "execution_count": 1,
   "id": "dc8a2b18-b885-47ba-8a45-3f4cfee05362",
   "metadata": {},
   "outputs": [],
   "source": [
    "import mysql.connector"
   ]
  },
  {
   "cell_type": "code",
   "execution_count": 48,
   "id": "d75d1ec5-3fe0-4558-be90-7e846e4cd56c",
   "metadata": {},
   "outputs": [],
   "source": [
    "conn = mysql.connector.connect(host='localhost',database='bits41',user='srvmdk',password='Pass$aurav123')"
   ]
  },
  {
   "cell_type": "code",
   "execution_count": 49,
   "id": "842692b8-a8ff-4474-9e82-0c78bb3441fe",
   "metadata": {},
   "outputs": [
    {
     "data": {
      "text/plain": [
       "True"
      ]
     },
     "execution_count": 49,
     "metadata": {},
     "output_type": "execute_result"
    }
   ],
   "source": [
    "conn.is_connected()"
   ]
  },
  {
   "cell_type": "code",
   "execution_count": 43,
   "id": "b5027d3a-a81c-45a3-b700-2c67643771e8",
   "metadata": {},
   "outputs": [],
   "source": [
    "def get_org(org_id):\n",
    "    cursor_org = conn.cursor(dictionary=True)\n",
    "    cursor_org.execute(\"SELECT * FROM company_org WHERE ORG_ID={}\".format(org_id))\n",
    "    res = cursor_org.fetchone()\n",
    "    return res"
   ]
  },
  {
   "cell_type": "code",
   "execution_count": 54,
   "id": "9223c976-e71d-40b4-b81e-7cea56f13d04",
   "metadata": {},
   "outputs": [],
   "source": [
    "def get_item(item_id):\n",
    "    cursor_item = conn.cursor(dictionary=True)\n",
    "    cursor_item.execute(\"SELECT * FROM item WHERE ITEM_ID={}\".format(item_id))\n",
    "    res = cursor_item.fetchone()\n",
    "    return res"
   ]
  },
  {
   "cell_type": "code",
   "execution_count": 67,
   "id": "2badf385-ba51-4c2e-8f17-ced41bfb3795",
   "metadata": {},
   "outputs": [],
   "source": [
    "def get_supplier(supplier_id):\n",
    "    cursor_item = conn.cursor(dictionary=True)\n",
    "    cursor_item.execute(\"SELECT * FROM SUPPLIER WHERE SUPPLIER_ID={}\".format(supplier_id))\n",
    "    res = cursor_item.fetchone()\n",
    "    return res"
   ]
  },
  {
   "cell_type": "code",
   "execution_count": 56,
   "id": "6bf95bf4-e4d8-421f-9560-c3e1130d988c",
   "metadata": {},
   "outputs": [],
   "source": [
    "def get_inventory_on_hand():\n",
    "    cursor = conn.cursor(dictionary=True)\n",
    "    cursor.execute(\"SELECT * FROM INVENTORY_ON_HAND\")\n",
    "    inventory_on_hand = []\n",
    "\n",
    "    row = cursor.fetchone()\n",
    "    while row is not None:\n",
    "        inventory_on_hand.append(row)\n",
    "        row = cursor.fetchone()\n",
    "\n",
    "    # Add the objects\n",
    "    for i in range(0, len(inventory_on_hand)):\n",
    "        org_id = inventory_on_hand[i]['ORG_ID']\n",
    "        org_obj = get_org(org_id)\n",
    "        inventory_on_hand[i]['ORG_OBJ'] = org_obj\n",
    "        \n",
    "        item_id = inventory_on_hand[i]['ITEM_ID']\n",
    "        item_obj = get_item(item_id)\n",
    "        inventory_on_hand[i]['ITEM_OBJ'] = item_obj\n",
    "        \n",
    "    return inventory_on_hand"
   ]
  },
  {
   "cell_type": "code",
   "execution_count": 70,
   "id": "c20d6928-8cde-47d8-9e56-befb5421162c",
   "metadata": {},
   "outputs": [],
   "source": [
    "def get_purchase_orders():\n",
    "    cursor = conn.cursor(dictionary=True)\n",
    "    cursor.execute(\"SELECT * FROM PURCHASE_ORDER\")\n",
    "    \n",
    "    purchase_orders = []\n",
    "    row = cursor.fetchone()\n",
    "    while row is not None:\n",
    "        purchase_orders.append(row)\n",
    "        row = cursor.fetchone()\n",
    "        \n",
    "    # Add the objects\n",
    "    for i in range(0, len(purchase_orders)):\n",
    "        supplier_id = purchase_orders[i]['SUPPLIER_ID']\n",
    "        supplier_obj = get_supplier(supplier_id)\n",
    "        purchase_orders[i]['SUPPLIER_OBJ'] = supplier_obj\n",
    "        \n",
    "        item_id = purchase_orders[i]['ITEM_ID']\n",
    "        item_obj = get_item(item_id)\n",
    "        purchase_orders[i]['ITEM_OBJ'] = item_obj\n",
    "    \n",
    "    return purchase_orders"
   ]
  },
  {
   "cell_type": "code",
   "execution_count": 71,
   "id": "930c3f95-cfe9-4b00-af44-7fa3dd4e7295",
   "metadata": {},
   "outputs": [
    {
     "data": {
      "text/plain": [
       "[{'PO_NUMBER': 1,\n",
       "  'SUPPLIER_ID': 1,\n",
       "  'SUPPLIER_SITE_ID': 1,\n",
       "  'SHIP_TO_LOCATION': 'Bangalore Main',\n",
       "  'CURRENCY': 'Rupee',\n",
       "  'LINE_NUM': 1,\n",
       "  'ITEM_ID': 355453,\n",
       "  'UOM': 'KG',\n",
       "  'QUANTITY': 2,\n",
       "  'PRICE': '20',\n",
       "  'SUPPLIER_OBJ': {'SUPPLIER_ID': 1,\n",
       "   'SUPPLIER_NAME': 'Akash Systems Ltd',\n",
       "   'TAX_NUMBER': 115678,\n",
       "   'SUPPLIER_SITE_ID': 1,\n",
       "   'SUPPLIER_SITE_NAME': 'Bangalore Main',\n",
       "   'ADRRESS': 'Majestic',\n",
       "   'PAYMENT_TERM': 30,\n",
       "   'BANK_ACCOUNT': 11245678},\n",
       "  'ITEM_OBJ': {'ITEM_ID': 355453,\n",
       "   'ITEM_NUMBER': 'DCC0001',\n",
       "   'DESCRIPTION': 'Metal Sheets',\n",
       "   'UOM': 'KG',\n",
       "   'CATEGORY_ID': 67576,\n",
       "   'PUR_PRICE': 10}},\n",
       " {'PO_NUMBER': 2,\n",
       "  'SUPPLIER_ID': 2,\n",
       "  'SUPPLIER_SITE_ID': 2,\n",
       "  'SHIP_TO_LOCATION': 'Bangalore Hub',\n",
       "  'CURRENCY': 'Rupee',\n",
       "  'LINE_NUM': 2,\n",
       "  'ITEM_ID': 664685,\n",
       "  'UOM': 'DZ',\n",
       "  'QUANTITY': 1,\n",
       "  'PRICE': '10',\n",
       "  'SUPPLIER_OBJ': {'SUPPLIER_ID': 2,\n",
       "   'SUPPLIER_NAME': 'Akash Systems Ltd',\n",
       "   'TAX_NUMBER': 115678,\n",
       "   'SUPPLIER_SITE_ID': 2,\n",
       "   'SUPPLIER_SITE_NAME': 'Bangalore Hub',\n",
       "   'ADRRESS': '23 Outer Ring Road',\n",
       "   'PAYMENT_TERM': 30,\n",
       "   'BANK_ACCOUNT': 11245678},\n",
       "  'ITEM_OBJ': {'ITEM_ID': 664685,\n",
       "   'ITEM_NUMBER': 'DCC0002',\n",
       "   'DESCRIPTION': 'Books',\n",
       "   'UOM': 'DZ',\n",
       "   'CATEGORY_ID': 77488,\n",
       "   'PUR_PRICE': 10}},\n",
       " {'PO_NUMBER': 3,\n",
       "  'SUPPLIER_ID': 1,\n",
       "  'SUPPLIER_SITE_ID': 1,\n",
       "  'SHIP_TO_LOCATION': 'Bangalore Main',\n",
       "  'CURRENCY': 'Rupee',\n",
       "  'LINE_NUM': 1,\n",
       "  'ITEM_ID': 664689,\n",
       "  'UOM': 'EA',\n",
       "  'QUANTITY': 5,\n",
       "  'PRICE': '50',\n",
       "  'SUPPLIER_OBJ': {'SUPPLIER_ID': 1,\n",
       "   'SUPPLIER_NAME': 'Akash Systems Ltd',\n",
       "   'TAX_NUMBER': 115678,\n",
       "   'SUPPLIER_SITE_ID': 1,\n",
       "   'SUPPLIER_SITE_NAME': 'Bangalore Main',\n",
       "   'ADRRESS': 'Majestic',\n",
       "   'PAYMENT_TERM': 30,\n",
       "   'BANK_ACCOUNT': 11245678},\n",
       "  'ITEM_OBJ': {'ITEM_ID': 664689,\n",
       "   'ITEM_NUMBER': 'DCC0006',\n",
       "   'DESCRIPTION': 'Sheets',\n",
       "   'UOM': 'EA',\n",
       "   'CATEGORY_ID': 77492,\n",
       "   'PUR_PRICE': 10}},\n",
       " {'PO_NUMBER': 4,\n",
       "  'SUPPLIER_ID': 1,\n",
       "  'SUPPLIER_SITE_ID': 1,\n",
       "  'SHIP_TO_LOCATION': 'Bangalore Main',\n",
       "  'CURRENCY': 'Rupee',\n",
       "  'LINE_NUM': 3,\n",
       "  'ITEM_ID': 664687,\n",
       "  'UOM': 'EA',\n",
       "  'QUANTITY': 3,\n",
       "  'PRICE': '30',\n",
       "  'SUPPLIER_OBJ': {'SUPPLIER_ID': 1,\n",
       "   'SUPPLIER_NAME': 'Akash Systems Ltd',\n",
       "   'TAX_NUMBER': 115678,\n",
       "   'SUPPLIER_SITE_ID': 1,\n",
       "   'SUPPLIER_SITE_NAME': 'Bangalore Main',\n",
       "   'ADRRESS': 'Majestic',\n",
       "   'PAYMENT_TERM': 30,\n",
       "   'BANK_ACCOUNT': 11245678},\n",
       "  'ITEM_OBJ': {'ITEM_ID': 664687,\n",
       "   'ITEM_NUMBER': 'DCC0004',\n",
       "   'DESCRIPTION': 'Box',\n",
       "   'UOM': 'EA',\n",
       "   'CATEGORY_ID': 77490,\n",
       "   'PUR_PRICE': 10}},\n",
       " {'PO_NUMBER': 5,\n",
       "  'SUPPLIER_ID': 2,\n",
       "  'SUPPLIER_SITE_ID': 2,\n",
       "  'SHIP_TO_LOCATION': 'Bangalore Hub',\n",
       "  'CURRENCY': 'Rupee',\n",
       "  'LINE_NUM': 2,\n",
       "  'ITEM_ID': 355453,\n",
       "  'UOM': 'KG',\n",
       "  'QUANTITY': 3,\n",
       "  'PRICE': '30',\n",
       "  'SUPPLIER_OBJ': {'SUPPLIER_ID': 2,\n",
       "   'SUPPLIER_NAME': 'Akash Systems Ltd',\n",
       "   'TAX_NUMBER': 115678,\n",
       "   'SUPPLIER_SITE_ID': 2,\n",
       "   'SUPPLIER_SITE_NAME': 'Bangalore Hub',\n",
       "   'ADRRESS': '23 Outer Ring Road',\n",
       "   'PAYMENT_TERM': 30,\n",
       "   'BANK_ACCOUNT': 11245678},\n",
       "  'ITEM_OBJ': {'ITEM_ID': 355453,\n",
       "   'ITEM_NUMBER': 'DCC0001',\n",
       "   'DESCRIPTION': 'Metal Sheets',\n",
       "   'UOM': 'KG',\n",
       "   'CATEGORY_ID': 67576,\n",
       "   'PUR_PRICE': 10}}]"
      ]
     },
     "execution_count": 71,
     "metadata": {},
     "output_type": "execute_result"
    }
   ],
   "source": [
    "get_purchase_orders()"
   ]
  },
  {
   "cell_type": "code",
   "execution_count": 61,
   "id": "d05f6b07-cf57-4c95-b493-fe7fca45a69a",
   "metadata": {},
   "outputs": [
    {
     "data": {
      "text/plain": [
       "[{'PO_NUMBER': 1,\n",
       "  'SUPPLIER_ID': 1,\n",
       "  'SUPPLIER_SITE_ID': 1,\n",
       "  'SHIP_TO_LOCATION': 'Bangalore Main',\n",
       "  'CURRENCY': 'Rupee',\n",
       "  'LINE_NUM': 1,\n",
       "  'ITEM_ID': 355453,\n",
       "  'UOM': 'KG',\n",
       "  'QUANTITY': 2,\n",
       "  'PRICE': '20'},\n",
       " {'PO_NUMBER': 2,\n",
       "  'SUPPLIER_ID': 2,\n",
       "  'SUPPLIER_SITE_ID': 2,\n",
       "  'SHIP_TO_LOCATION': 'Bangalore Hub',\n",
       "  'CURRENCY': 'Rupee',\n",
       "  'LINE_NUM': 2,\n",
       "  'ITEM_ID': 664685,\n",
       "  'UOM': 'DZ',\n",
       "  'QUANTITY': 1,\n",
       "  'PRICE': '10'},\n",
       " {'PO_NUMBER': 3,\n",
       "  'SUPPLIER_ID': 1,\n",
       "  'SUPPLIER_SITE_ID': 1,\n",
       "  'SHIP_TO_LOCATION': 'Bangalore Main',\n",
       "  'CURRENCY': 'Rupee',\n",
       "  'LINE_NUM': 1,\n",
       "  'ITEM_ID': 664689,\n",
       "  'UOM': 'EA',\n",
       "  'QUANTITY': 5,\n",
       "  'PRICE': '50'},\n",
       " {'PO_NUMBER': 4,\n",
       "  'SUPPLIER_ID': 1,\n",
       "  'SUPPLIER_SITE_ID': 1,\n",
       "  'SHIP_TO_LOCATION': 'Bangalore Main',\n",
       "  'CURRENCY': 'Rupee',\n",
       "  'LINE_NUM': 3,\n",
       "  'ITEM_ID': 664687,\n",
       "  'UOM': 'EA',\n",
       "  'QUANTITY': 3,\n",
       "  'PRICE': '30'},\n",
       " {'PO_NUMBER': 5,\n",
       "  'SUPPLIER_ID': 2,\n",
       "  'SUPPLIER_SITE_ID': 2,\n",
       "  'SHIP_TO_LOCATION': 'Bangalore Hub',\n",
       "  'CURRENCY': 'Rupee',\n",
       "  'LINE_NUM': 2,\n",
       "  'ITEM_ID': 355453,\n",
       "  'UOM': 'KG',\n",
       "  'QUANTITY': 3,\n",
       "  'PRICE': '30'}]"
      ]
     },
     "execution_count": 61,
     "metadata": {},
     "output_type": "execute_result"
    }
   ],
   "source": [
    "get_purchase_orders()"
   ]
  },
  {
   "cell_type": "code",
   "execution_count": 57,
   "id": "ddee7658-c518-46e8-a0d8-8b477dd1efe5",
   "metadata": {},
   "outputs": [
    {
     "data": {
      "text/plain": [
       "[{'ORG_ID': 1001,\n",
       "  'ITEM_ID': 355453,\n",
       "  'LOCATOR': 'A1.01.01',\n",
       "  'QTY_ONHAND': '20',\n",
       "  'LOT_NUMBER': 1,\n",
       "  'ORG_OBJ': {'ORG_ID': 1001,\n",
       "   'ORG_NAME': 'ABC Ltd. Hyderabad Factory',\n",
       "   'ORG_LOCATION': 'Hyderabad',\n",
       "   'ORG_TYPE': 'Factory'},\n",
       "  'ITEM_OBJ': {'ITEM_ID': 355453,\n",
       "   'ITEM_NUMBER': 'DCC0001',\n",
       "   'DESCRIPTION': 'Metal Sheets',\n",
       "   'UOM': 'KG',\n",
       "   'CATEGORY_ID': 67576,\n",
       "   'PUR_PRICE': 10}},\n",
       " {'ORG_ID': 1001,\n",
       "  'ITEM_ID': 664684,\n",
       "  'LOCATOR': 'A1.01.02',\n",
       "  'QTY_ONHAND': '10',\n",
       "  'LOT_NUMBER': 2,\n",
       "  'ORG_OBJ': {'ORG_ID': 1001,\n",
       "   'ORG_NAME': 'ABC Ltd. Hyderabad Factory',\n",
       "   'ORG_LOCATION': 'Hyderabad',\n",
       "   'ORG_TYPE': 'Factory'},\n",
       "  'ITEM_OBJ': {'ITEM_ID': 664684,\n",
       "   'ITEM_NUMBER': 'DCC0001',\n",
       "   'DESCRIPTION': 'Chemical',\n",
       "   'UOM': 'LTR',\n",
       "   'CATEGORY_ID': 77487,\n",
       "   'PUR_PRICE': 10}},\n",
       " {'ORG_ID': 1002,\n",
       "  'ITEM_ID': 355453,\n",
       "  'LOCATOR': 'A1.01.01',\n",
       "  'QTY_ONHAND': '30',\n",
       "  'LOT_NUMBER': 1,\n",
       "  'ORG_OBJ': {'ORG_ID': 1002,\n",
       "   'ORG_NAME': 'ABC Ltd. Mumbai Warehouse',\n",
       "   'ORG_LOCATION': 'Mumbai',\n",
       "   'ORG_TYPE': 'Warehouse'},\n",
       "  'ITEM_OBJ': {'ITEM_ID': 355453,\n",
       "   'ITEM_NUMBER': 'DCC0001',\n",
       "   'DESCRIPTION': 'Metal Sheets',\n",
       "   'UOM': 'KG',\n",
       "   'CATEGORY_ID': 67576,\n",
       "   'PUR_PRICE': 10}}]"
      ]
     },
     "execution_count": 57,
     "metadata": {},
     "output_type": "execute_result"
    }
   ],
   "source": [
    "get_inventory_on_hand()"
   ]
  },
  {
   "cell_type": "code",
   "execution_count": 24,
   "id": "0b0463c3-f5e9-40f9-a7f9-cceba0942093",
   "metadata": {},
   "outputs": [
    {
     "data": {
      "text/plain": [
       "{'ORG_ID': 1001,\n",
       " 'ORG_NAME': 'ABC Ltd. Hyderabad Factory',\n",
       " 'ORG_LOCATION': 'Hyderabad',\n",
       " 'ORG_TYPE': 'Factory'}"
      ]
     },
     "execution_count": 24,
     "metadata": {},
     "output_type": "execute_result"
    }
   ],
   "source": [
    "get_org(1001)"
   ]
  },
  {
   "cell_type": "code",
   "execution_count": 55,
   "id": "f76cb0c7-071a-4dc0-9479-5a432e16399c",
   "metadata": {},
   "outputs": [
    {
     "data": {
      "text/plain": [
       "{'ITEM_ID': 355453,\n",
       " 'ITEM_NUMBER': 'DCC0001',\n",
       " 'DESCRIPTION': 'Metal Sheets',\n",
       " 'UOM': 'KG',\n",
       " 'CATEGORY_ID': 67576,\n",
       " 'PUR_PRICE': 10}"
      ]
     },
     "execution_count": 55,
     "metadata": {},
     "output_type": "execute_result"
    }
   ],
   "source": [
    "get_item(355453)"
   ]
  },
  {
   "cell_type": "code",
   "execution_count": null,
   "id": "34a78855-5f23-4e85-a261-027e967d03b7",
   "metadata": {},
   "outputs": [],
   "source": []
  }
 ],
 "metadata": {
  "kernelspec": {
   "display_name": "Python 3",
   "language": "python",
   "name": "python3"
  },
  "language_info": {
   "codemirror_mode": {
    "name": "ipython",
    "version": 3
   },
   "file_extension": ".py",
   "mimetype": "text/x-python",
   "name": "python",
   "nbconvert_exporter": "python",
   "pygments_lexer": "ipython3",
   "version": "3.7.11"
  }
 },
 "nbformat": 4,
 "nbformat_minor": 5
}
